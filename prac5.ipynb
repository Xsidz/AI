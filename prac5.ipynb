{
 "cells": [
  {
   "cell_type": "code",
   "execution_count": 2,
   "id": "a31ed9b7-0783-4505-8eac-7431b11d3748",
   "metadata": {},
   "outputs": [
    {
     "name": "stdout",
     "output_type": "stream",
     "text": [
      "Original array: [64, 25, 12, 22, 11]\n",
      "Step 1: [11, 25, 12, 22, 64]\n",
      "Step 2: [11, 12, 25, 22, 64]\n",
      "Step 3: [11, 12, 22, 25, 64]\n",
      "Step 4: [11, 12, 22, 25, 64]\n",
      "Step 5: [11, 12, 22, 25, 64]\n",
      "Sorted array: [11, 12, 22, 25, 64]\n"
     ]
    }
   ],
   "source": [
    "def selection_sort(arr):\n",
    "\n",
    "   n = len(arr)\n",
    "\n",
    " \n",
    "\n",
    "   # Traverse through all array elements\n",
    "\n",
    "   for i in range(n):\n",
    "\n",
    "       # Find the minimum element in the remaining unsorted array\n",
    "\n",
    "       min_index = i\n",
    "\n",
    "       for j in range(i+1, n):\n",
    "\n",
    "           if arr[j] < arr[min_index]:\n",
    "\n",
    "               min_index = j\n",
    "\n",
    " \n",
    "\n",
    "       # Swap the found minimum element with the first element\n",
    "\n",
    "       arr[i], arr[min_index] = arr[min_index], arr[i]\n",
    "\n",
    "       print(f\"Step {i+1}: {arr}\")  # Print the array after each swap\n",
    "\n",
    " \n",
    "\n",
    "   return arr\n",
    "\n",
    " \n",
    "\n",
    "# Example usage:\n",
    "\n",
    "arr = [64, 25, 12, 22, 11]\n",
    "\n",
    "print(\"Original array:\", arr)\n",
    "\n",
    "sorted_arr = selection_sort(arr)\n",
    "\n",
    "print(\"Sorted array:\", sorted_arr)\n",
    "\n"
   ]
  },
  {
   "cell_type": "code",
   "execution_count": null,
   "id": "5842ad3e-d229-4e16-b184-a6b169f282b9",
   "metadata": {},
   "outputs": [],
   "source": []
  }
 ],
 "metadata": {
  "kernelspec": {
   "display_name": "Python [conda env:base] *",
   "language": "python",
   "name": "conda-base-py"
  },
  "language_info": {
   "codemirror_mode": {
    "name": "ipython",
    "version": 3
   },
   "file_extension": ".py",
   "mimetype": "text/x-python",
   "name": "python",
   "nbconvert_exporter": "python",
   "pygments_lexer": "ipython3",
   "version": "3.12.7"
  }
 },
 "nbformat": 4,
 "nbformat_minor": 5
}
