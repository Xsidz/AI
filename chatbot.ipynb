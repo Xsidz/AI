{
 "cells": [
  {
   "cell_type": "code",
   "execution_count": 4,
   "id": "33f67853-01b3-472a-ac09-987f906b26af",
   "metadata": {},
   "outputs": [
    {
     "name": "stdout",
     "output_type": "stream",
     "text": [
      "Requirement already satisfied: nltk in /opt/anaconda3/lib/python3.12/site-packages (3.9.1)\n",
      "Requirement already satisfied: click in /opt/anaconda3/lib/python3.12/site-packages (from nltk) (8.1.7)\n",
      "Requirement already satisfied: joblib in /opt/anaconda3/lib/python3.12/site-packages (from nltk) (1.4.2)\n",
      "Requirement already satisfied: regex>=2021.8.3 in /opt/anaconda3/lib/python3.12/site-packages (from nltk) (2024.9.11)\n",
      "Requirement already satisfied: tqdm in /opt/anaconda3/lib/python3.12/site-packages (from nltk) (4.66.5)\n",
      "Note: you may need to restart the kernel to use updated packages.\n"
     ]
    }
   ],
   "source": [
    "pip install nltk"
   ]
  },
  {
   "cell_type": "code",
   "execution_count": 6,
   "id": "dfdb52ed-f5e2-4bd4-8265-4fb789e38d97",
   "metadata": {},
   "outputs": [],
   "source": [
    "import nltk\n",
    "from nltk.chat.util import Chat, reflections\n",
    "import tkinter as tk\n",
    "from tkinter import scrolledtext\n",
    "\n",
    "# Define chatbot responses using pairs\n",
    "pairs = [\n",
    "    [r\"hi|hello|hey\", [\"Hello! How can I assist you today?\", \"Hi there! How can I help you?\"]],\n",
    "    [r\"how are you?\", [\"I'm just a bot, but I'm doing fine! How about you?\", \"I'm a bot, but I'm functioning as expected.\"]],\n",
    "    [r\"(.*)your name?\", [\"I'm a chatbot, here to assist you.\"]],\n",
    "    [r\"bye|goodbye\", [\"Goodbye! Have a great day!\", \"Bye! Take care!\"]],\n",
    "    [r\"(.*)\", [\"I'm not sure how to respond to that. Could you rephrase?\"]]\n",
    "]\n",
    "\n",
    "# Create chatbot\n",
    "chatbot = Chat(pairs, reflections)\n",
    "\n",
    "# Function to send message\n",
    "def send_message():\n",
    "    user_input = user_entry.get()\n",
    "    if user_input.strip() == \"\":\n",
    "        return\n",
    "    chat_history.insert(tk.END, f\"You: {user_input}\\n\")\n",
    "    response = chatbot.respond(user_input)\n",
    "    chat_history.insert(tk.END, f\"Bot: {response}\\n\\n\")\n",
    "    user_entry.delete(0, tk.END)\n",
    "\n",
    "# GUI setup\n",
    "root = tk.Tk()\n",
    "root.title(\"Simple Chatbot\")\n",
    "\n",
    "chat_history = scrolledtext.ScrolledText(root, wrap=tk.WORD, width=50, height=15, state='normal')\n",
    "chat_history.pack(padx=10, pady=10)\n",
    "\n",
    "user_entry = tk.Entry(root, width=40)\n",
    "user_entry.pack(padx=10, pady=5)\n",
    "\n",
    "send_button = tk.Button(root, text=\"Send\", command=send_message)\n",
    "send_button.pack(pady=5)\n",
    "\n",
    "# Run the GUI event loop\n",
    "root.mainloop()\n"
   ]
  },
  {
   "cell_type": "code",
   "execution_count": null,
   "id": "08255a97-d74a-401a-81e9-8bc881dae8fd",
   "metadata": {},
   "outputs": [],
   "source": []
  }
 ],
 "metadata": {
  "kernelspec": {
   "display_name": "Python [conda env:base] *",
   "language": "python",
   "name": "conda-base-py"
  },
  "language_info": {
   "codemirror_mode": {
    "name": "ipython",
    "version": 3
   },
   "file_extension": ".py",
   "mimetype": "text/x-python",
   "name": "python",
   "nbconvert_exporter": "python",
   "pygments_lexer": "ipython3",
   "version": "3.12.7"
  }
 },
 "nbformat": 4,
 "nbformat_minor": 5
}
